{
 "cells": [
  {
   "cell_type": "code",
   "execution_count": 1,
   "metadata": {},
   "outputs": [],
   "source": [
    "import numpy as np\n",
    "import cema"
   ]
  },
  {
   "cell_type": "markdown",
   "metadata": {},
   "source": [
    "### Generate the key and plain texts"
   ]
  },
  {
   "cell_type": "code",
   "execution_count": 2,
   "metadata": {},
   "outputs": [
    {
     "name": "stdout",
     "output_type": "stream",
     "text": [
      "Real key =  [215 114  64 209 151 142 221  60 202 178   5 152  96 231  32 124]\n"
     ]
    }
   ],
   "source": [
    "keyLength=16 # 16-bytes, 128-bits\n",
    "\n",
    "numPlainTexts=20\n",
    "\n",
    "noiseLevel = 10 # minimum noise level we can go down to is 2\n",
    "\n",
    "traceDuration = 20\n",
    "\n",
    "realKey = np.random.randint(256, size=keyLength)\n",
    "print(\"Real key = \", realKey)\n",
    "\n",
    "plainTexts = cema.genPlainTexts(keyLength, numPlainTexts)\n",
    "#print(plainTexts.tolist())\n",
    "#print(plainTexts)"
   ]
  },
  {
   "cell_type": "markdown",
   "metadata": {},
   "source": [
    "### Need a hypothesis matrix per each key byte\n",
    "- if the key length is 4 bytes, we need 4 hypothesis matrices"
   ]
  },
  {
   "cell_type": "code",
   "execution_count": 3,
   "metadata": {},
   "outputs": [],
   "source": [
    "H_all = cema.getHypoMatrices(plainTexts, keyLength)"
   ]
  },
  {
   "cell_type": "markdown",
   "metadata": {},
   "source": [
    "### Generate dummy EM traces for testing"
   ]
  },
  {
   "cell_type": "code",
   "execution_count": 4,
   "metadata": {},
   "outputs": [],
   "source": [
    "traceMatrix = cema.genEMTraces(realKey, plainTexts, traceDuration, noiseLevel)\n",
    "#print(traceMatrix)"
   ]
  },
  {
   "cell_type": "markdown",
   "metadata": {},
   "source": [
    "### Recovering the key"
   ]
  },
  {
   "cell_type": "code",
   "execution_count": 5,
   "metadata": {},
   "outputs": [
    {
     "name": "stdout",
     "output_type": "stream",
     "text": [
      "Real key    =  [215 114  64 209 151 142 221  60 202 178   5 152  96 231  32 124]\n",
      "Guessed key =  [117 198   2 114 211 246  28  52 126 170 232   6  96 138 164  84]\n"
     ]
    }
   ],
   "source": [
    "guessedKey = cema.recoverKey(H_all, traceMatrix, keyLength)\n",
    "\n",
    "print(\"Real key    = \", realKey)\n",
    "print(\"Guessed key = \", guessedKey)"
   ]
  },
  {
   "cell_type": "code",
   "execution_count": null,
   "metadata": {},
   "outputs": [],
   "source": []
  }
 ],
 "metadata": {
  "kernelspec": {
   "display_name": "Python 3",
   "language": "python",
   "name": "python3"
  },
  "language_info": {
   "codemirror_mode": {
    "name": "ipython",
    "version": 3
   },
   "file_extension": ".py",
   "mimetype": "text/x-python",
   "name": "python",
   "nbconvert_exporter": "python",
   "pygments_lexer": "ipython3",
   "version": "3.8.5"
  }
 },
 "nbformat": 4,
 "nbformat_minor": 2
}
